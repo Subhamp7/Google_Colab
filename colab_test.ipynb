{
  "nbformat": 4,
  "nbformat_minor": 0,
  "metadata": {
    "colab": {
      "name": "Untitled",
      "provenance": [],
      "authorship_tag": "ABX9TyMiP+fP3B5KWpfoh9Rqy/vm",
      "include_colab_link": true
    },
    "kernelspec": {
      "name": "python3",
      "display_name": "Python 3"
    }
  },
  "cells": [
    {
      "cell_type": "markdown",
      "metadata": {
        "id": "view-in-github",
        "colab_type": "text"
      },
      "source": [
        "<a href=\"https://colab.research.google.com/github/Subhamp7/Google_Colab/blob/master/colab_test.ipynb\" target=\"_parent\"><img src=\"https://colab.research.google.com/assets/colab-badge.svg\" alt=\"Open In Colab\"/></a>"
      ]
    },
    {
      "cell_type": "code",
      "metadata": {
        "id": "MGoYu5s_RAcS",
        "colab_type": "code",
        "colab": {}
      },
      "source": [
        "#loading the required libraries\n",
        "try:\n",
        "  import pandas as pd\n",
        "  import numpy as np\n",
        "except Exception as exp:\n",
        "  print(\"Error while loading the dataset\",exp)"
      ],
      "execution_count": null,
      "outputs": []
    },
    {
      "cell_type": "code",
      "metadata": {
        "id": "psjSO8fWT3BD",
        "colab_type": "code",
        "colab": {}
      },
      "source": [
        "#generating a dataset\n"
      ],
      "execution_count": null,
      "outputs": []
    }
  ]
}