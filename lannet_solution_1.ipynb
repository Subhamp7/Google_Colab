{
  "nbformat": 4,
  "nbformat_minor": 0,
  "metadata": {
    "colab": {
      "name": "lannet_solution_1",
      "provenance": [],
      "authorship_tag": "ABX9TyPlS2PZueisGE035SrB+kF8",
      "include_colab_link": true
    },
    "kernelspec": {
      "name": "python3",
      "display_name": "Python 3"
    }
  },
  "cells": [
    {
      "cell_type": "markdown",
      "metadata": {
        "id": "view-in-github",
        "colab_type": "text"
      },
      "source": [
        "<a href=\"https://colab.research.google.com/github/Subhamp7/Google_Colab/blob/master/lannet_solution_1.ipynb\" target=\"_parent\"><img src=\"https://colab.research.google.com/assets/colab-badge.svg\" alt=\"Open In Colab\"/></a>"
      ]
    },
    {
      "cell_type": "code",
      "metadata": {
        "id": "MGoYu5s_RAcS",
        "colab_type": "code",
        "colab": {}
      },
      "source": [
        "#loading the required libraries\n",
        "try:\n",
        "  import pandas as pd\n",
        "  import numpy as np\n",
        "except Exception as exp:\n",
        "  print(\"Error while loading the dataset\",exp)"
      ],
      "execution_count": null,
      "outputs": []
    },
    {
      "cell_type": "code",
      "metadata": {
        "id": "psjSO8fWT3BD",
        "colab_type": "code",
        "colab": {
          "base_uri": "https://localhost:8080/",
          "height": 68
        },
        "outputId": "95541589-2aed-4673-fe90-89872ca034a5"
      },
      "source": [
        "#generating a date datatype using numpy\n",
        "manufacture_date=np.arange('2005-02-01', '2005-02-10', dtype='datetime64[D]')\n"
      ],
      "execution_count": 12,
      "outputs": [
        {
          "output_type": "execute_result",
          "data": {
            "text/plain": [
              "array(['2005-02-01', '2005-02-02', '2005-02-03', '2005-02-04',\n",
              "       '2005-02-05', '2005-02-06', '2005-02-07', '2005-02-08',\n",
              "       '2005-02-09'], dtype='datetime64[D]')"
            ]
          },
          "metadata": {
            "tags": []
          },
          "execution_count": 12
        }
      ]
    }
  ]
}